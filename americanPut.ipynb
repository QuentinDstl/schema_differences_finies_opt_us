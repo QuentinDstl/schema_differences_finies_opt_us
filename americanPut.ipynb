{
 "cells": [
  {
   "cell_type": "code",
   "execution_count": 1,
   "metadata": {},
   "outputs": [],
   "source": [
    "# Partie 1 :\n",
    "# Initialisation des paramètres financiers :\n",
    "S = 50 # La valeur actuelle du sous-jacent\n",
    "K = 50 # La valeur d'exercice (le strike)\n",
    "r = 0.05 # Le taux d'intérêt sans risque\n",
    "sigma = 0.25 # La volatilité\n",
    "T = 3 # La maturité"
   ]
  },
  {
   "cell_type": "code",
   "execution_count": 2,
   "metadata": {},
   "outputs": [],
   "source": [
    "# Partie 2 :\n",
    "# Initialisation des paramètres numériques :\n",
    "M = 100 # Le nombre de pas de temps\n",
    "N = 400 # Le nombre de pas de sous-jacent\n",
    "Szero = 0 # La valeur minimale du sous-jacent\n",
    "Smax = 150 # La valeur maximale du sous-jacent\n",
    "# Paramètres SOR :\n",
    "omega = 1.2 # Le paramètre de relaxation\n",
    "tol = 1e-3 # La tolérance pour la convergence"
   ]
  },
  {
   "cell_type": "code",
   "execution_count": 3,
   "metadata": {},
   "outputs": [],
   "source": [
    "import numpy as np"
   ]
  },
  {
   "cell_type": "code",
   "execution_count": 22,
   "metadata": {},
   "outputs": [],
   "source": [
    "# Partie 3.1 :\n",
    "# Initialisation du maillage et de la matrice du système linéaire :\n",
    "solution_mesh = np.zeros((N+1, M+1)) # La grille de la solution approchée\n",
    "Smesh= np.linspace(0, Smax, M+1) # Maillage en S\n",
    "Tmesh = np.linspace(T, 0, N+1) # Maillage en T\n",
    "\n",
    "dt=T/N\n",
    "dS=Smax/M\n",
    "for i in range(0,M+1):\n",
    "    # On soustrait au strike Smesh (un linespace qui va de 0 à Smax avec un pas de dS = 1,5)\n",
    "    solution_mesh[i,0] = max(K-Smesh[i],0) # Condition initiale\n",
    "\n",
    "for i in range(0,N+1):\n",
    "    solution_mesh[i,0] = K*np.exp(-r*(T-Tmesh[i])) # Condition aux limites en S=0\n",
    "    solution_mesh[i,M] = 0 # Condition aux limites en S=M"
   ]
  },
  {
   "cell_type": "code",
   "execution_count": 55,
   "metadata": {},
   "outputs": [],
   "source": [
    "# Partie 3.2 :\n",
    "\n",
    "# Définition des fonctions A, B et C :\n",
    "def a(i):\n",
    "    return 0.5*dt*(r*i-sigma**2*i**2)\n",
    "\n",
    "def b(i):\n",
    "    return 1+dt*(sigma**2*i**2+r)\n",
    "\n",
    "def c(i):\n",
    "    return -0.5*dt*(sigma**2*i**2+r*i)\n",
    "\n",
    "# Construction de la matrice tri-diagonale :\n",
    "Acoeffs = np.zeros(M+1)\n",
    "Bcoeffs = np.zeros(M+1)\n",
    "Ccoeffs = np.zeros(M+1)\n",
    "for i in range(0,M+1):\n",
    "    Acoeffs[i] = a(i)\n",
    "    Bcoeffs[i] = b(i)\n",
    "    Ccoeffs[i] = c(i)\n",
    "\n",
    "\n",
    "A = np.diag(Acoeffs[2:M],-1)\n",
    "B = np.diag(Bcoeffs[1:M])\n",
    "C = np.diag(Ccoeffs[1:M-1],1)\n",
    "\n",
    "TriDiag = A + B + C\n",
    "Tri_Inv = np.linalg.inv(TriDiag) # Inversion de la matrice tri-diagonale"
   ]
  },
  {
   "cell_type": "code",
   "execution_count": 58,
   "metadata": {},
   "outputs": [],
   "source": [
    "# Partie 3.3 :\n",
    "# Boucle en temps et schéma implicite + itération SOR :\n",
    "\n",
    "for p in range(0,N):\n",
    "    temp = np.zeros(M-1)\n",
    "    temp[0] = a(0)*solution_mesh[p+1,0]\n",
    "    temp[M-2] = c(M)*solution_mesh[p+1,M]\n",
    "    for i in range(1,M):\n",
    "        RHS = np.transpose(solution_mesh[p,i]) - temp[i-1]\n",
    "\n",
    "# Méthode SOR & Gauss-Seidel : résolution itérative de Ax=b\n",
    "# Noter que : A est (M-1)x(M-1) et b est (M-1)\n",
    "\n",
    "# A = TriDiag[M,M] # Définir la matrice A et le second membre RHS=b\n",
    "# b = RHS\n",
    "\n",
    "# x = solution_mesh[p,2:M] # Initialisation de la solution approchée\n",
    "\n",
    "        "
   ]
  },
  {
   "cell_type": "code",
   "execution_count": null,
   "metadata": {},
   "outputs": [],
   "source": [
    "# Partie 4 :\n",
    "# Visualisation graphique des résultats :"
   ]
  }
 ],
 "metadata": {
  "kernelspec": {
   "display_name": "Python 3.10.7 64-bit",
   "language": "python",
   "name": "python3"
  },
  "language_info": {
   "codemirror_mode": {
    "name": "ipython",
    "version": 3
   },
   "file_extension": ".py",
   "mimetype": "text/x-python",
   "name": "python",
   "nbconvert_exporter": "python",
   "pygments_lexer": "ipython3",
   "version": "3.10.7"
  },
  "orig_nbformat": 4,
  "vscode": {
   "interpreter": {
    "hash": "ba8719f22aec4b0a7f4ea392cdf6257b183f543dc18f4206b740c09071aeaf38"
   }
  }
 },
 "nbformat": 4,
 "nbformat_minor": 2
}
