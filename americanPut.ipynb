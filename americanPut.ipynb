{
 "cells": [
  {
   "cell_type": "code",
   "execution_count": null,
   "metadata": {},
   "outputs": [],
   "source": [
    "# Partie 1 :\n",
    "# Initialisation des paramètres financiers :\n",
    "S = 50 # La valeur actuelle du sous-jacent\n",
    "K = 50 # La valeur d'exercice (le strike)\n",
    "r = 0.05 # Le taux d'intérêt sans risque\n",
    "sigma = 0.25 # La volatilité\n",
    "T = 3 # La maturité"
   ]
  },
  {
   "cell_type": "code",
   "execution_count": null,
   "metadata": {},
   "outputs": [],
   "source": [
    "# Partie 2 :\n",
    "# Initialisation des paramètres numériques :\n",
    "M = 100 # Le nombre de pas de temps\n",
    "N = 400 # Le nombre de pas de sous-jacent\n",
    "Szero = 0 # La valeur minimale du sous-jacent\n",
    "Smax = 150 # La valeur maximale du sous-jacent\n",
    "# Paramètres SOR :\n",
    "omega = 1.2 # Le paramètre de relaxation\n",
    "tol = 1e-3 # La tolérance pour la convergence"
   ]
  },
  {
   "cell_type": "code",
   "execution_count": null,
   "metadata": {},
   "outputs": [],
   "source": [
    "import numpy as np"
   ]
  },
  {
   "cell_type": "code",
   "execution_count": null,
   "metadata": {},
   "outputs": [],
   "source": [
    "# Partie 3 :\n",
    "# Boucle de temps :\n",
    "solution_mesh = np.zeros((M+1, N+1)) # La grille de la solution approchée\n",
    "Smesh=0 # Maillage en S\n",
    "Tmesh=T # Maillage en T\n",
    "dt="
   ]
  },
  {
   "cell_type": "code",
   "execution_count": null,
   "metadata": {},
   "outputs": [],
   "source": [
    "# Partie 4 :\n",
    "# Visualisation graphique des résultats :"
   ]
  }
 ],
 "metadata": {
  "language_info": {
   "name": "python"
  },
  "orig_nbformat": 4
 },
 "nbformat": 4,
 "nbformat_minor": 2
}
